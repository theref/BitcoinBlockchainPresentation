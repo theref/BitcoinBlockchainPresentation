{
 "cells": [
  {
   "cell_type": "code",
   "execution_count": 1,
   "metadata": {},
   "outputs": [
    {
     "name": "stdout",
     "output_type": "stream",
     "text": [
      "8f434346648f6b96df89dda901c5176b10a6d83961dd3c1ac88b59b2dc327aa4\n"
     ]
    }
   ],
   "source": [
    "import hashlib\n",
    "print(hashlib.sha256(b'hi').hexdigest())"
   ]
  },
  {
   "cell_type": "code",
   "execution_count": 2,
   "metadata": {},
   "outputs": [],
   "source": [
    "def quick_hash(*inputs):\n",
    "    seq = (str(x) for x in inputs)\n",
    "    sha = hashlib.sha256()\n",
    "    sha.update(''.join(seq).encode('utf-8'))\n",
    "    block_hash = sha.hexdigest()\n",
    "    return block_hash"
   ]
  },
  {
   "cell_type": "code",
   "execution_count": 3,
   "metadata": {},
   "outputs": [
    {
     "name": "stdout",
     "output_type": "stream",
     "text": [
      "cae1903f3924a902f77b1bd5fc9dc952821f4e730f077cf4e0b799086b61920c\n"
     ]
    }
   ],
   "source": [
    "print(quick_hash([1, 2, 3], 'asdf'))"
   ]
  },
  {
   "cell_type": "code",
   "execution_count": 4,
   "metadata": {},
   "outputs": [],
   "source": [
    "class Block:\n",
    "    def __init__(self, index, data, previous_block):\n",
    "        self.index = index\n",
    "        self.data = data\n",
    "        self.nonce = 0\n",
    "        self.previous_block = previous_block\n",
    "\n",
    "    def __str__(self):\n",
    "        return f'Block #{self.index}: {self.data} {self.hash_block()} {self.nonce}'\n",
    "\n",
    "    def hash_block(self):\n",
    "        if self.previous_block == 'Genesis':\n",
    "            previous_hash = 'Genesis_Hash'\n",
    "        else:\n",
    "            previous_hash = self.previous_block.hash_block()\n",
    "        block_hash = quick_hash(self.index, self.data, self.nonce, previous_hash)\n",
    "        return block_hash\n",
    "    \n",
    "    def mine(self):\n",
    "        block_hash = self.hash_block()\n",
    "        while block_hash[:4] != '0000':\n",
    "            self.nonce += 1\n",
    "            block_hash = self.hash_block()\n",
    "        print('Block Mined!!!')\n",
    "        "
   ]
  },
  {
   "cell_type": "code",
   "execution_count": 5,
   "metadata": {},
   "outputs": [
    {
     "name": "stdout",
     "output_type": "stream",
     "text": [
      "Block #0: Our First Block d6122f1bbf4eb67f529466f1e5364b74a45ca41075cdc1e1ef95a030237fd897 0\n",
      "Block Mined!!!\n",
      "Block #0: Our First Block 0000b46d32e201d08444839857ea898131023e4b1a2ffb9d28e0a0c56d261af3 13125\n"
     ]
    }
   ],
   "source": [
    "genesis_block = Block(0, 'Our First Block', 'Genesis')\n",
    "print(genesis_block)\n",
    "genesis_block.mine()\n",
    "print(genesis_block)"
   ]
  },
  {
   "cell_type": "code",
   "execution_count": 6,
   "metadata": {},
   "outputs": [
    {
     "name": "stdout",
     "output_type": "stream",
     "text": [
      "Block #1: Silly Data 7319b4946652e8319a500b7972abc9692244867cd6c45bfd38f1e58862ec8e14 0\n",
      "Block Mined!!!\n",
      "Block #1: Silly Data 000047846d6739086036423ba2715eb08cc1d127ae8156413a937a39bf5b1d0e 23798\n"
     ]
    }
   ],
   "source": [
    "example_block = Block(1, 'Silly Data', genesis_block)\n",
    "print(example_block)\n",
    "example_block.mine()\n",
    "print(example_block)"
   ]
  },
  {
   "cell_type": "code",
   "execution_count": 7,
   "metadata": {},
   "outputs": [
    {
     "name": "stdout",
     "output_type": "stream",
     "text": [
      "Block #0: Genesis Block e44aef73b640c9805a199e73a643100908d50712cfece794965a76b2a8c0a8c9 13125\n",
      "Block #1: Silly Data 343b8fae0169759e17e19a48d75445b15c0197e06d2aeafd7283ba30b9487b0f 23798\n"
     ]
    }
   ],
   "source": [
    "genesis_block.data = 'Genesis Block'\n",
    "print(genesis_block)\n",
    "print(example_block)"
   ]
  },
  {
   "cell_type": "code",
   "execution_count": 8,
   "metadata": {},
   "outputs": [
    {
     "name": "stdout",
     "output_type": "stream",
     "text": [
      "Block Mined!!!\n",
      "Block #0: Genesis Block 000039cde7ca44cc20840a3ced6677897c788b4f8062def51f6dee256cbac7dc 108857\n",
      "Block #1: Silly Data 7b7cfa9db50ec157a15143f506dbc5ed7fa5c8c9cbc9c2eff012098808f901ec 23798\n",
      "Block Mined!!!\n",
      "Block #1: Silly Data 0000135df87ed3aa75a6aee398a2e5611b5ac83ab86140c7ee8e39b4b380d873 38466\n"
     ]
    }
   ],
   "source": [
    "genesis_block.mine()\n",
    "print(genesis_block)\n",
    "print(example_block)\n",
    "example_block.mine()\n",
    "print(example_block)"
   ]
  },
  {
   "cell_type": "code",
   "execution_count": 9,
   "metadata": {},
   "outputs": [
    {
     "name": "stdout",
     "output_type": "stream",
     "text": [
      "Block Mined!!!\n",
      "Block #1: some data here 0000ba3ab50fd189c5512048c74e6e803be221e7bebcda1c34e490fc876d65bd 56940\n",
      "Block Mined!!!\n",
      "Block #2: some data here 0000ab512d4fe3fbd0a8f96343875b34189d91f75ac5d9ada03bd9c3aa36ca7a 41676\n",
      "Block Mined!!!\n",
      "Block #3: some data here 00000ea310c007086c4a0f9372dd87ee016535c95caf8594a066c954c04bb740 27463\n",
      "Block Mined!!!\n",
      "Block #4: some data here 00001de2a925950849f4af8a2ab3b9d487cf31d1a5c228f39271b22281961b3b 225154\n",
      "Block Mined!!!\n",
      "Block #5: some data here 00008695d62ae58a0081f816dd47dea06a39df56b2403fdc2b2444251fb25eeb 33030\n",
      "Block Mined!!!\n",
      "Block #6: some data here 0000554e24be19f5c43e41d820c0c0082984c58c3e6fee05dd60715440ebe385 13773\n",
      "Block Mined!!!\n",
      "Block #7: some data here 0000667f8b89265c8780eea9835435572166fb606165d4bef04afa4183493118 25084\n"
     ]
    }
   ],
   "source": [
    "blockchain = [genesis_block]\n",
    "for i in range(1, 8):\n",
    "    new_block = Block(index=i,\n",
    "                      data='some data here',\n",
    "                      previous_block=blockchain[-1])\n",
    "    new_block.mine()\n",
    "    blockchain.append(new_block)\n",
    "    print(new_block)"
   ]
  },
  {
   "cell_type": "code",
   "execution_count": 10,
   "metadata": {},
   "outputs": [
    {
     "name": "stdout",
     "output_type": "stream",
     "text": [
      "Block #0: Genesis Block 000039cde7ca44cc20840a3ced6677897c788b4f8062def51f6dee256cbac7dc 108857\n",
      "Block #1: some data here 0000ba3ab50fd189c5512048c74e6e803be221e7bebcda1c34e490fc876d65bd 56940\n",
      "Block #2: Malicious Attack b67375b0ee32d136104724d925dd9d3b5675f9ae61f43d9dc0434dcb04cbfe0d 41676\n",
      "Block #3: some data here ebbe9e4be0466e9118924ac59e11137d1038cc801bb0ee1a760213d0679ae60d 27463\n",
      "Block #4: some data here e2c7c38d2fe299d2c9c651b264c8dc970a9b1f3caf9d9fd3c0bb85037dabc442 225154\n",
      "Block #5: some data here ba5caaf58e92d61aa7c45098b345b9e7affcf09dea8ce8fbaf4af154c4237c1d 33030\n",
      "Block #6: some data here 350b808699107ca2651070559ab78e507779654a12877bc7367b4d86086af034 13773\n",
      "Block #7: some data here 3a0dc0ff9f4f6d389717611fa47f957da9294c045cbb450bfebb30f14cdc5b21 25084\n"
     ]
    }
   ],
   "source": [
    "blockchain[2].data = 'Malicious Attack'\n",
    "for block in blockchain:\n",
    "    print(block)"
   ]
  },
  {
   "cell_type": "code",
   "execution_count": 11,
   "metadata": {},
   "outputs": [
    {
     "name": "stdout",
     "output_type": "stream",
     "text": [
      "Block Mined!!!\n",
      "Block #2: Malicious Attack 00008b254856e5dce9d01843b50ecf9c7ab5065d61e5cfe6982c22895eb42756 93992\n",
      "Block Mined!!!\n",
      "Block #3: some data here 000066f44b28389ed8f3fa4dc4f768b541ea38551123cf01312154120bf48eaa 83332\n",
      "Block Mined!!!\n",
      "Block #4: some data here 0000a2e287cc6979923bc79c2c9a04d84a8bce1db915cfc6b1d03c976fa0dff5 272510\n",
      "Block Mined!!!\n",
      "Block #5: some data here 000040dee5b5278afd59baed5827cc8e77b31e2955b4637f07c79bc8418b4d3b 92657\n",
      "Block Mined!!!\n",
      "Block #6: some data here 0000490085a7ed54f2ab67e4c083fbe0874c32cb13fda8c152ec36c78d07d288 105385\n",
      "Block Mined!!!\n",
      "Block #7: some data here 000076354419f8d7f0b8d34013704c30023ce31e45dba023dc752ca5117cfd2a 39893\n"
     ]
    }
   ],
   "source": [
    "for block in blockchain[2:]:\n",
    "    block.mine()\n",
    "    print(block)"
   ]
  }
 ],
 "metadata": {
  "kernelspec": {
   "display_name": "Python 3",
   "language": "python",
   "name": "python3"
  },
  "language_info": {
   "codemirror_mode": {
    "name": "ipython",
    "version": 3
   },
   "file_extension": ".py",
   "mimetype": "text/x-python",
   "name": "python",
   "nbconvert_exporter": "python",
   "pygments_lexer": "ipython3",
   "version": "3.6.4"
  }
 },
 "nbformat": 4,
 "nbformat_minor": 2
}
